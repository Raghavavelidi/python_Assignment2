{
 "cells": [
  {
   "cell_type": "markdown",
   "id": "44f888cb",
   "metadata": {
    "id": "44f888cb"
   },
   "source": [
    "<a href=\"https://www.viharatech.com\"><img src=\"https://miro.medium.com/v2/resize:fit:828/format:webp/1*on2Bpj6A5gfd-CzaFOAZRA.jpeg\"></a>\n",
    "\n",
    "\n",
    "- `Welcome to our interactive learning session! In this Jupyter notebook, you'll find a series of questions related to Python Concept. To maximize your learning, please write Python code in the cell below each question and execute it. This hands-on practice will help reinforce your understanding of the concepts. Feel free to reach out if you have any questions or need assistance. Happy coding! 💻🐍 `"
   ]
  },
  {
   "cell_type": "raw",
   "id": "144f8dd9",
   "metadata": {
    "id": "144f8dd9"
   },
   "source": [
    "1 . Print the input text without vowels\n",
    "\n",
    "input = 'hai'\n",
    "\n",
    "Expected output = h"
   ]
  },
  {
   "cell_type": "code",
   "execution_count": 5,
   "id": "cf1f9ca7",
   "metadata": {
    "id": "cf1f9ca7"
   },
   "outputs": [
    {
     "name": "stdout",
     "output_type": "stream",
     "text": [
      "hw r y\n"
     ]
    }
   ],
   "source": [
    "var=\"how are you\"\n",
    "a='aeiouAEIOU'\n",
    "v=''\n",
    "for i in var:\n",
    "    if i not in a:\n",
    "        v=v+i\n",
    "print(v)"
   ]
  },
  {
   "cell_type": "raw",
   "id": "9f0cbac6",
   "metadata": {
    "id": "9f0cbac6"
   },
   "source": [
    "2 . Print only vowels from the text\n",
    "\n",
    "input = data\n",
    "\n",
    "Expected output = aa"
   ]
  },
  {
   "cell_type": "code",
   "execution_count": 8,
   "id": "a6c81c61",
   "metadata": {
    "id": "a6c81c61"
   },
   "outputs": [
    {
     "name": "stdout",
     "output_type": "stream",
     "text": [
      "aeiou\n"
     ]
    }
   ],
   "source": [
    "input=\"aeiour\"\n",
    "v='AEIOUaeiou'\n",
    "a=''\n",
    "for i in input:\n",
    "    if i in v:\n",
    "        a=a+i\n",
    "print(a)"
   ]
  },
  {
   "cell_type": "raw",
   "id": "6cbfe6e1",
   "metadata": {
    "id": "6cbfe6e1"
   },
   "source": [
    "3 . print each valu from the list with its index\n",
    "\n",
    "\n",
    "input = [10,11,50,34]\n",
    "\n",
    "Expected output = [100 , 111 , 502 , 343]"
   ]
  },
  {
   "cell_type": "code",
   "execution_count": 5,
   "id": "d92cb8a3",
   "metadata": {
    "id": "d92cb8a3"
   },
   "outputs": [
    {
     "name": "stdout",
     "output_type": "stream",
     "text": [
      "['100', '111', '502', '343']\n"
     ]
    }
   ],
   "source": [
    "input=[10,11,50,34]\n",
    "a=[]\n",
    "for i in range(0,len(input)):\n",
    "    a.append(f\"{input[i]}{i}\")\n",
    "\n",
    "print(a)\n"
   ]
  },
  {
   "cell_type": "raw",
   "id": "de670ddc",
   "metadata": {
    "id": "de670ddc"
   },
   "source": [
    "4 . This is a Python Program to print all integers that aren’t divisible by either 2 or 3 and lies between 1 and 50."
   ]
  },
  {
   "cell_type": "code",
   "execution_count": 7,
   "id": "bf365d80",
   "metadata": {
    "id": "bf365d80"
   },
   "outputs": [
    {
     "name": "stdout",
     "output_type": "stream",
     "text": [
      "1 5 7 11 13 17 19 23 25 29 31 35 37 41 43 47 49 "
     ]
    }
   ],
   "source": [
    "for i in range(1,51):\n",
    "    if i%2!=0 and i%3!=0:\n",
    "        print(i,end=' ')"
   ]
  },
  {
   "cell_type": "raw",
   "id": "9f9b54af",
   "metadata": {
    "id": "9f9b54af"
   },
   "source": [
    "5 . The program takes in an integer and prints the smallest divisor of the integer."
   ]
  },
  {
   "cell_type": "code",
   "execution_count": 8,
   "id": "087e8e4b",
   "metadata": {
    "id": "087e8e4b"
   },
   "outputs": [
    {
     "name": "stdout",
     "output_type": "stream",
     "text": [
      "the smallest divisor is 2\n"
     ]
    }
   ],
   "source": [
    "def hello(n):\n",
    "    for i in range(2,n+1):\n",
    "        if n%i==0:\n",
    "            print('the smallest divisor is',i)\n",
    "            return\n",
    "hello(8)"
   ]
  },
  {
   "cell_type": "raw",
   "id": "fe7c7e96",
   "metadata": {
    "id": "fe7c7e96"
   },
   "source": [
    "6 . Write a Python program to check if it is a strong number or not ."
   ]
  },
  {
   "cell_type": "code",
   "execution_count": 12,
   "id": "746703b2",
   "metadata": {
    "id": "746703b2"
   },
   "outputs": [
    {
     "name": "stdout",
     "output_type": "stream",
     "text": [
      "145 is a strong number\n"
     ]
    }
   ],
   "source": [
    "import math\n",
    "n=145\n",
    "temp=n\n",
    "s=0\n",
    "while n>0:\n",
    "    r=n%10\n",
    "    s=s+math.factorial(r)\n",
    "    n=n//10\n",
    "if temp==s:\n",
    "    print(temp,\"is a strong number\")\n",
    "\n",
    "else:\n",
    "    print(temp,\"is not a strong number\")"
   ]
  },
  {
   "cell_type": "raw",
   "id": "6fccfd65",
   "metadata": {
    "id": "6fccfd65"
   },
   "source": [
    "7 . Write a Python program that takes input from the user and displays that input back in upper and lower cases."
   ]
  },
  {
   "cell_type": "code",
   "execution_count": 1,
   "id": "9c85b4a6",
   "metadata": {
    "id": "9c85b4a6"
   },
   "outputs": [
    {
     "name": "stdin",
     "output_type": "stream",
     "text": [
      "enter the string hello\n"
     ]
    },
    {
     "name": "stdout",
     "output_type": "stream",
     "text": [
      "HELLO\n",
      "hello\n"
     ]
    }
   ],
   "source": [
    "str_input=input(\"enter the string\")\n",
    "print(str_input.upper())\n",
    "print(str_input.lower())"
   ]
  },
  {
   "cell_type": "raw",
   "id": "8e92ebb5",
   "metadata": {
    "id": "8e92ebb5"
   },
   "source": [
    "8 . Write a Python program to remove spaces from a given string\n",
    "\n",
    "- input = united states\n",
    "- output = unitedstates"
   ]
  },
  {
   "cell_type": "code",
   "execution_count": 18,
   "id": "5d8f2f1b",
   "metadata": {
    "id": "5d8f2f1b"
   },
   "outputs": [
    {
     "name": "stdout",
     "output_type": "stream",
     "text": [
      "unitedstates\n"
     ]
    }
   ],
   "source": [
    "input='united states'\n",
    "a=input.replace(' ','')\n",
    "print(a)\n",
    "\n",
    "    "
   ]
  },
  {
   "cell_type": "raw",
   "id": "0b1bc8da",
   "metadata": {
    "id": "0b1bc8da"
   },
   "source": [
    "9 . Write a Python program to capitalize first and last letters of each word of a given string."
   ]
  },
  {
   "cell_type": "code",
   "execution_count": 36,
   "id": "0642e4ef",
   "metadata": {
    "id": "0642e4ef"
   },
   "outputs": [
    {
     "name": "stdout",
     "output_type": "stream",
     "text": [
      "DoctoR WantS ThE ApplE\n"
     ]
    }
   ],
   "source": [
    "input='doctor wants the apple'\n",
    "words=input.split()\n",
    "a=[]\n",
    "for i in words:\n",
    "    if len(i)>1:\n",
    "        word=i[0].upper() + i[1:-1] +i[-1].upper()\n",
    "        a.append(word)\n",
    "result=\" \".join(a)\n",
    "print(result)\n"
   ]
  },
  {
   "cell_type": "raw",
   "id": "77b5cd36",
   "metadata": {
    "id": "77b5cd36"
   },
   "source": [
    "10 . write a python program to find length of a string but should not use len keyword"
   ]
  },
  {
   "cell_type": "code",
   "execution_count": 38,
   "id": "4926f802",
   "metadata": {
    "id": "4926f802"
   },
   "outputs": [
    {
     "name": "stdout",
     "output_type": "stream",
     "text": [
      "12\n"
     ]
    }
   ],
   "source": [
    "str='pawan kalyan'\n",
    "a=0\n",
    "for i in str:\n",
    "    a=a+1\n",
    "print(a)"
   ]
  },
  {
   "cell_type": "code",
   "execution_count": null,
   "id": "4873b6cd-3122-481b-ac58-a72cf507d8fe",
   "metadata": {},
   "outputs": [],
   "source": []
  }
 ],
 "metadata": {
  "colab": {
   "provenance": []
  },
  "kernelspec": {
   "display_name": "Python 3 (ipykernel)",
   "language": "python",
   "name": "python3"
  },
  "language_info": {
   "codemirror_mode": {
    "name": "ipython",
    "version": 3
   },
   "file_extension": ".py",
   "mimetype": "text/x-python",
   "name": "python",
   "nbconvert_exporter": "python",
   "pygments_lexer": "ipython3",
   "version": "3.12.4"
  }
 },
 "nbformat": 4,
 "nbformat_minor": 5
}
